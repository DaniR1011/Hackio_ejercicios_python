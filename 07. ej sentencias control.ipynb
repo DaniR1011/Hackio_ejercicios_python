{
 "cells": [
  {
   "cell_type": "markdown",
   "metadata": {},
   "source": [
    "<div style=\"text-align: center;\">\n",
    "  <img src=\"https://github.com/Hack-io-Data/Imagenes/blob/main/01-LogosHackio/logo_celeste@4x.png?raw=true\" alt=\"logo hack(io)\" />\n",
    "</div>"
   ]
  },
  {
   "cell_type": "markdown",
   "metadata": {},
   "source": [
    "#### 1. Escribe un programa que determine si un número es par o impar.\n",
    "\n"
   ]
  },
  {
   "cell_type": "code",
   "execution_count": null,
   "metadata": {},
   "outputs": [],
   "source": [
    "numero = int(input(\"Ingresa un número: \"))\n",
    "if numero % 2 == 0:\n",
    "    print(f\"El número {numero} es par.\")\n",
    "else:\n",
    "    print(f\"El número {numero} es impar.\")\n"
   ]
  },
  {
   "cell_type": "markdown",
   "metadata": {},
   "source": [
    "#### 2. Genera un programa que nos diga si es de noche, de día o tarde según la hora proporcionada por el usuario."
   ]
  },
  {
   "cell_type": "code",
   "execution_count": null,
   "metadata": {},
   "outputs": [],
   "source": [
    "hora = int(input(\"Ingresa la hora: \"))\n",
    "if 0 <= hora < 7:\n",
    "    print(\"Es de noche.\")\n",
    "elif 7 <= hora < 12:\n",
    "    print(\"Es de día.\")\n",
    "elif 12 <= hora < 18:\n",
    "    print(\"Es de tarde.\")\n",
    "elif 18 <= hora < 24:\n",
    "    print(\"Es de noche.\")\n",
    "else:\n",
    "    print(\"Hora no válida. Ingresa una hora entre 0 y 23.\")\n"
   ]
  },
  {
   "cell_type": "markdown",
   "metadata": {},
   "source": [
    "#### 3. Dado un nombre imprime un saludo personalizado."
   ]
  },
  {
   "cell_type": "code",
   "execution_count": 1,
   "metadata": {},
   "outputs": [],
   "source": [
    "nombre = input(\"Ingresa tu nombre: \")\n",
    "print(f\"¡Hola, {nombre}! ¡Bienvenido!\")"
   ]
  },
  {
   "cell_type": "markdown",
   "metadata": {},
   "source": [
    "#### 4. Escribe un programa que determine qué calificación en texto tiene un alumno en base a su calificación numérica. Las reglas de calificación son: \n",
    "\n",
    "- 0 - 69 insuficiente\n",
    "\n",
    "- 70 - 79 bien\n",
    "\n",
    "- 80 - 89 muy bien\n",
    "\n",
    "- 90 - 100 excelente\n"
   ]
  },
  {
   "cell_type": "code",
   "execution_count": null,
   "metadata": {},
   "outputs": [],
   "source": [
    "calificacion = int(input(\"Tu calificación final es: \"))\n",
    "if calificacion >= 0 < 69:\n",
    "    print(\"Tu nota es insuficiente\")\n",
    "elif calificacion >= 70 < 79:\n",
    "    print(\"Tu nota es bien\")\n",
    "elif calificacion >= 80 < 89:\n",
    "    print(\"Tu nota es muy bien\")\n",
    "elif calificacion >= 90 < 100:\n",
    "    print(\"Tu nota es excelente\")"
   ]
  },
  {
   "cell_type": "markdown",
   "metadata": {},
   "source": [
    "#### 5. Escribe un programa que imprima el día de la semana, dado un número del 1 al 7.\n"
   ]
  },
  {
   "cell_type": "code",
   "execution_count": null,
   "metadata": {},
   "outputs": [],
   "source": [
    "numero = int(input(\"Ingresa un número del 1 al 7: \"))\n",
    "if numero == 1:\n",
    "    dia = \"Lunes\"\n",
    "elif numero == 2:\n",
    "    dia = \"Martes\"\n",
    "elif numero == 3:\n",
    "    dia = \"Miércoles\"\n",
    "elif numero == 4:\n",
    "    dia = \"Jueves\"\n",
    "elif numero == 5:\n",
    "    dia = \"Viernes\"\n",
    "elif numero == 6:\n",
    "    dia = \"Sábado\"\n",
    "elif numero == 7:\n",
    "    dia = \"Domingo\"\n",
    "print(dia)"
   ]
  },
  {
   "cell_type": "markdown",
   "metadata": {},
   "source": [
    "#### 6. Escribe un programa que determine si un número es positivo, negativo o cero."
   ]
  },
  {
   "cell_type": "code",
   "execution_count": null,
   "metadata": {},
   "outputs": [],
   "source": [
    "numero = float(input(\"Ingresa un número: \"))\n",
    "if numero > 0:\n",
    "    print(\"El número es positivo.\")\n",
    "elif numero < 0:\n",
    "    print(\"El número es negativo.\")\n",
    "else:\n",
    "    print(\"El número es cero.\")"
   ]
  },
  {
   "cell_type": "markdown",
   "metadata": {},
   "source": [
    "#### 7. Escribe un programa que determine si una persona puede conducir o no. La edad mínima para conducir es 18 años. \n"
   ]
  },
  {
   "cell_type": "code",
   "execution_count": null,
   "metadata": {},
   "outputs": [],
   "source": [
    "edad = int(input(\"Ingresa tu edad: \"))\n",
    "if edad >= 18:\n",
    "    print(\"Tienes edad para conducir.\")\n",
    "else:\n",
    "    print(\"Todavía no tienes edad para conducir.\")"
   ]
  },
  {
   "cell_type": "markdown",
   "metadata": {},
   "source": [
    "#### 8. Escribe un programa que determine si un estudiante aprobó o suspendió un examen."
   ]
  },
  {
   "cell_type": "code",
   "execution_count": null,
   "metadata": {},
   "outputs": [],
   "source": [
    "nota = int(input(\"Ingresa tu nota: \"))\n",
    "if nota >= 5:\n",
    "    print(\"Has aprobado! \")\n",
    "else:\n",
    "    print(\"Has suspendido el examen\")"
   ]
  },
  {
   "cell_type": "markdown",
   "metadata": {},
   "source": [
    "#### 9. Escribe un programa que determine si un número es múltiplo de 3 y 5.\n"
   ]
  },
  {
   "cell_type": "code",
   "execution_count": null,
   "metadata": {},
   "outputs": [],
   "source": [
    "numero = int(input(\"Ingresa un número: \"))\n",
    "if numero % 3 == 0 and numero % 5 == 0:\n",
    "    print(f\"El número {numero} es múltiplo de 3 y 5.\")\n",
    "else:\n",
    "    print(f\"El número {numero} no es múltiplo de 3 y 5.\")"
   ]
  },
  {
   "cell_type": "markdown",
   "metadata": {},
   "source": [
    "#### 10. Escribe un programa que determine si un número es par o impar.\n"
   ]
  },
  {
   "cell_type": "code",
   "execution_count": null,
   "metadata": {},
   "outputs": [],
   "source": [
    "numero = int(input(\"Ingresa un número: \"))\n",
    "if numero % 2 == 0:\n",
    "    print(f\"El número {numero} es par.\")\n",
    "else:\n",
    "    print(f\"El número {numero} es impar.\")"
   ]
  }
 ],
 "metadata": {
  "kernelspec": {
   "display_name": "Python 3.12.0 64-bit",
   "language": "python",
   "name": "python3"
  },
  "language_info": {
   "codemirror_mode": {
    "name": "ipython",
    "version": 3
   },
   "file_extension": ".py",
   "mimetype": "text/x-python",
   "name": "python",
   "nbconvert_exporter": "python",
   "pygments_lexer": "ipython3",
   "version": "3.12.0"
  },
  "vscode": {
   "interpreter": {
    "hash": "aee8b7b246df8f9039afb4144a1f6fd8d2ca17a180786b69acc140d282b71a49"
   }
  }
 },
 "nbformat": 4,
 "nbformat_minor": 2
}
