{
 "cells": [
  {
   "cell_type": "markdown",
   "metadata": {},
   "source": [
    "<div style=\"text-align: center;\">\n",
    "  <img src=\"https://github.com/Hack-io-Data/Imagenes/blob/main/01-LogosHackio/logo_celeste@4x.png?raw=true\" alt=\"esquema\" />\n",
    "</div>\n"
   ]
  },
  {
   "cell_type": "markdown",
   "metadata": {},
   "source": [
    "# Comprobación de calidad de contraseñas\n",
    "\n",
    "En este ejercicio, tendrás que generar un programa que sea capaz de comprobar la calidad de contraseñas. La seguridad de nuestras contraseñas es fundamental para proteger nuestra información personal y evitar posibles ataques cibernéticos. Para ello, vamos a crear una función llamada `verificar_seguridad_contrasena` que evaluará la calidad de una contraseña. Esta función tomará como argumento la contraseña a evaluar y devolverá si la contraseña es segura o no basado en los siguientes criterios:\n",
    "\n",
    "1. La contraseña deberá tener al menos 8 caracteres.\n",
    "\n",
    "2. La contraseña deberá tener al menos una letra mayúscula.\n",
    "\n",
    "3. La contraseña deberá tener al menos una letra minúscula. \n",
    "\n",
    "4. La contraseña deberá tener al menos un número. \n",
    "\n",
    "5. La contraseña deberá tener al menos un caracter especial. \n",
    "\n",
    "6. La contraseña no deberá tener espacios en blanco. \n",
    "\n",
    "7. La contraseña no deberá tener caracteres repetidos. \n"
   ]
  },
  {
   "cell_type": "code",
   "execution_count": null,
   "metadata": {},
   "outputs": [],
   "source": [
    "def verificar_seguridad_contrasena(contrasena):\n",
    "    if len(contrasena) < 8:\n",
    "        return \"La contraseña debe tener al menos 8 caracteres.\"\n",
    "    if \" \" in contrasena:\n",
    "        return \"La contraseña no debe contener espacios en blanco.\"\n",
    "    if len(contrasena) != len(set(contrasena)):\n",
    "        return \"La contraseña no debe contener caracteres repetidos.\"\n",
    "    tiene_mayuscula = any(c.isupper() for c in contrasena)\n",
    "    tiene_minuscula = any(c.islower() for c in contrasena)\n",
    "    tiene_numero = any(c.isdigit() for c in contrasena)\n",
    "    tiene_caracter_especial = any(c in \"!@#$%^&*(),.?\\\":{}|<>\" for c in contrasena)\n",
    "    if not (tiene_mayuscula and tiene_minuscula and tiene_numero and tiene_caracter_especial):\n",
    "        return \"La contraseña debe contener al menos una letra mayúscula, una letra minúscula, un número y un caracter especial.\"\n",
    "    return \"La contraseña es segura.\""
   ]
  }
 ],
 "metadata": {
  "kernelspec": {
   "display_name": "hackio",
   "language": "python",
   "name": "python3"
  },
  "language_info": {
   "codemirror_mode": {
    "name": "ipython",
    "version": 3
   },
   "file_extension": ".py",
   "mimetype": "text/x-python",
   "name": "python",
   "nbconvert_exporter": "python",
   "pygments_lexer": "ipython3",
   "version": "3.12.1"
  }
 },
 "nbformat": 4,
 "nbformat_minor": 2
}
