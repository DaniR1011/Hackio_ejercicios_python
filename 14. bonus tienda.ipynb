{
 "cells": [
  {
   "cell_type": "markdown",
   "metadata": {},
   "source": [
    "<div style=\"text-align: center;\">\n",
    "  <img src=\"https://github.com/Hack-io-Data/Imagenes/blob/main/01-LogosHackio/logo_celeste@4x.png?raw=true\" alt=\"esquema\" />\n",
    "</div>\n"
   ]
  },
  {
   "cell_type": "markdown",
   "metadata": {},
   "source": [
    "En este ejercicio, se te pedirá que escribas un programa en Python que utilice condicionales para determinar el monto final de una compra en una tienda en línea, después de aplicar un descuento. El programa debe hacer lo siguiente:\n",
    "\n",
    "1. Solicita al usuario que ingrese el precio original de un artículo.\n",
    "\n",
    "2. Pregunta al usuario si tiene un cupón de descuento (respuesta sí o no).\n",
    "\n",
    "3. Si el usuario responde que sí, solicita que ingrese el valor del cupón de descuento.\n",
    "\n",
    "4. Aplica el descuento al precio original del artículo, siempre y cuando el valor del cupón sea válido (es decir, mayor a cero). Por ejemplo, descuento de 15€. \n",
    "\n",
    "5. Muestra el precio final de la compra, teniendo en cuenta el descuento aplicado o sin él. \n",
    "\n",
    "6. Recuerda utilizar estructuras de control de flujo como if, elif y else para llevar a cabo estas acciones en tu programa de Python."
   ]
  },
  {
   "cell_type": "code",
   "execution_count": null,
   "metadata": {},
   "outputs": [],
   "source": [
    "precio_original = float(input(\"Ingrese el precio original del artículo: \"))\n",
    "tiene_cupon = input(\"¿Tiene un cupón de descuento? (sí o no): \").strip().lower()\n",
    "precio_final = precio_original\n",
    "if tiene_cupon == \"sí\":\n",
    "    valor_cupon = float(input(\"Ingrese el valor del cupón de descuento: \"))\n",
    "    if valor_cupon > 0:\n",
    "        precio_final -= valor_cupon\n",
    "    else:\n",
    "        print(\"El valor del cupón debe ser mayor a 0.\")\n",
    "print(f\"El precio final de la compra es: {precio_final:.2f}€\")"
   ]
  },
  {
   "cell_type": "markdown",
   "metadata": {},
   "source": [
    "Modifica el programa anterior para que el usuario ingrese un porcentaje de descuento en lugar de un valor fijo (por ejemplo, 30%). Aplica el descuento en base al porcentaje ingresado."
   ]
  },
  {
   "cell_type": "code",
   "execution_count": null,
   "metadata": {},
   "outputs": [],
   "source": [
    "tiene_cupon = input(\"¿Tiene un cupón de descuento? (sí o no): \").strip().lower()\n",
    "precio_final = precio_original\n",
    "if tiene_cupon == \"sí\":\n",
    "    porcentaje_descuento = float(input(\"Ingrese el porcentaje de descuento (ejemplo: 30 para un 30%): \"))\n",
    "    if porcentaje_descuento > 0:\n",
    "        descuento = (porcentaje_descuento / 100) * precio_original\n",
    "        precio_final -= descuento\n",
    "    else:\n",
    "        print(\"El porcentaje de descuento debe ser mayor a 0.\")\n",
    "print(f\"El precio final de la compra es: {precio_final:.2f}€\")"
   ]
  },
  {
   "cell_type": "markdown",
   "metadata": {},
   "source": [
    "Modifica el programa anterior agregando un límite al descuento, donde el descuento mínimo sea del 5% y el máximo del 50%. Si el usuario ingresa un porcentaje fuera de este rango, notifíquele y aplique el descuento mínimo o máximo según sea el caso."
   ]
  },
  {
   "cell_type": "code",
   "execution_count": null,
   "metadata": {},
   "outputs": [],
   "source": [
    "precio_original = float(input(\"Ingrese el precio original del artículo: \"))\n",
    "tiene_cupon = input(\"¿Tiene un cupón de descuento? (sí o no): \").strip().lower()\n",
    "precio_final = precio_original\n",
    "if tiene_cupon == \"sí\":\n",
    "    porcentaje_descuento = float(input(\"Ingrese el porcentaje de descuento (ejemplo: 30 para un 30%): \"))\n",
    "    if porcentaje_descuento < 5:\n",
    "        print(\"El porcentaje de descuento ingresado es menor al mínimo permitido (5%). Se aplicará un 5% de descuento.\")\n",
    "        porcentaje_descuento = 5\n",
    "    elif porcentaje_descuento > 50:\n",
    "        print(\"El porcentaje de descuento ingresado es mayor al máximo permitido (50%). Se aplicará un 50% de descuento.\")\n",
    "        porcentaje_descuento = 50\n",
    "    descuento = (porcentaje_descuento / 100) * precio_original\n",
    "    precio_final -= descuento\n",
    "print(f\"El precio final de la compra es: {precio_final:.2f}€\")"
   ]
  },
  {
   "cell_type": "markdown",
   "metadata": {},
   "source": [
    "Crea un programa nuevo que permita al usuario ingresar varios artículos, cada uno con su precio original y cupón de descuento. Aplica los descuentos correspondientes a cada producto y muestra el monto total final de la compra."
   ]
  },
  {
   "cell_type": "code",
   "execution_count": null,
   "metadata": {},
   "outputs": [],
   "source": [
    "total_final = 0\n",
    "num_articulos = int(input(\"¿Cuántos artículos desea comprar?: \"))\n",
    "for i in range(num_articulos):\n",
    "    print(f\"\\nArtículo {i + 1}\")\n",
    "    precio_original = float(input(\"Ingrese el precio original del artículo: \"))\n",
    "    tiene_cupon = input(\"¿Tiene un cupón de descuento para este artículo? (sí o no): \").strip().lower()\n",
    "    precio_final = precio_original\n",
    "    if tiene_cupon == \"sí\":\n",
    "        porcentaje_descuento = float(input(\"Ingrese el porcentaje de descuento (ejemplo: 30 para un 30%): \"))\n",
    "        if porcentaje_descuento < 5:\n",
    "            print(\"El porcentaje de descuento ingresado es menor al mínimo permitido (5%). Se aplicará un 5% de descuento.\")\n",
    "            porcentaje_descuento = 5\n",
    "        elif porcentaje_descuento > 50:\n",
    "            print(\"El porcentaje de descuento ingresado es mayor al máximo permitido (50%). Se aplicará un 50% de descuento.\")\n",
    "            porcentaje_descuento = 50\n",
    "        descuento = (porcentaje_descuento / 100) * precio_original\n",
    "        precio_final -= descuento\n",
    "    total_final += precio_final\n",
    "    print(f\"El precio final de este artículo es: {precio_final:.2f}€\")\n",
    "print(f\"\\nEl monto total final de la compra es: {total_final:.2f}€\")"
   ]
  },
  {
   "cell_type": "markdown",
   "metadata": {},
   "source": [
    "Crea un nuevo programa que permita aplicar descuentos por categorías. En este caso, nuestra tienda aplicará descuentos en función de la categoría (por ejemplo, electrónica, ropa, juguetes). Pregunta al usuario a que categoría pertenece su producto y aplica el descuento correspondiente a la categoría. Debes solicitar al usuario que ingrese la categoría del articulo y el precio para aplicarle el descuento. "
   ]
  },
  {
   "cell_type": "code",
   "execution_count": null,
   "metadata": {},
   "outputs": [],
   "source": [
    "descuentos_categoria = {\n",
    "    \"electrónica\": 10,\n",
    "    \"ropa\": 15,\n",
    "    \"juguetes\": 5,\n",
    "    \"hogar\": 20,\n",
    "    \"otros\": 0\n",
    "}\n",
    "total_final = 0\n",
    "num_articulos = int(input(\"¿Cuántos artículos desea comprar?: \"))\n",
    "for i in range(num_articulos):\n",
    "    print(f\"\\nArtículo {i + 1}\")\n",
    "    precio_original = float(input(\"Ingrese el precio original del artículo: \"))\n",
    "    categoria = input(\"Ingrese la categoría del artículo (electrónica, ropa, juguetes, hogar, otros): \").strip().lower()\n",
    "    if categoria not in descuentos_categoria:\n",
    "        print(\"Categoría no válida. Se aplicará un 0% de descuento (categoría 'otros').\")\n",
    "        categoria = \"otros\"\n",
    "    porcentaje_descuento = descuentos_categoria[categoria]\n",
    "    descuento = (porcentaje_descuento / 100) * precio_original\n",
    "    precio_final = precio_original - descuento\n",
    "    print(f\"Se ha aplicado un {porcentaje_descuento}% de descuento.\")\n",
    "    print(f\"El precio final de este artículo es: {precio_final:.2f}€\")\n",
    "    total_final += precio_final\n",
    "print(f\"\\nEl monto total final de la compra es: {total_final:.2f}€\")"
   ]
  },
  {
   "cell_type": "markdown",
   "metadata": {},
   "source": [
    "Crea un nuevo programa que aplique descuentos automáticos en función de la fecha actual. Aplica un descuento del 10% en compras realizadas entre lunes y viernes o un descuento del 15% en compras realizadas durante los fines de semana."
   ]
  },
  {
   "cell_type": "code",
   "execution_count": null,
   "metadata": {},
   "outputs": [],
   "source": [
    "import datetime\n",
    "dia_actual = datetime.datetime.now().weekday()\n",
    "if dia_actual < 5:\n",
    "    descuento_automatico = 10\n",
    "    print(\"Aplicando un 10% de descuento (Lunes a Viernes).\")\n",
    "else:\n",
    "    descuento_automatico = 15\n",
    "    print(\"Aplicando un 15% de descuento (Fin de Semana).\")\n",
    "total_final = 0\n",
    "num_articulos = int(input(\"¿Cuántos artículos desea comprar?: \"))\n",
    "for i in range(num_articulos):\n",
    "    print(f\"\\nArtículo {i + 1}\")\n",
    "    precio_original = float(input(\"Ingrese el precio original del artículo: \"))\n",
    "    descuento = (descuento_automatico / 100) * precio_original\n",
    "    precio_final = precio_original - descuento\n",
    "    print(f\"Se ha aplicado un {descuento_automatico}% de descuento.\")\n",
    "    print(f\"El precio final de este artículo es: {precio_final:.2f}€\")\n",
    "    total_final += precio_final\n",
    "print(f\"\\nEl monto total final de la compra es: {total_final:.2f}€\")"
   ]
  },
  {
   "cell_type": "markdown",
   "metadata": {},
   "source": [
    "Crea un programa nuevo que implemente un sistema de membresía donde los usuarios registrados obtengan un descuento adicional del 5%. Solicita al usuario que ingrese su nombre de usuario y contraseña para verificar su membresía y aplique el descuento adicional si corresponde. \n",
    "\n",
    "📝 Nota: Para este ejercicio solo tendremos un usuario registrado. El usuario es `USUARIO` y la contraseña es  `USUARIO123`. \n"
   ]
  },
  {
   "cell_type": "code",
   "execution_count": null,
   "metadata": {},
   "outputs": [],
   "source": [
    "usuario_registrado = \"USUARIO\"\n",
    "contrasena_registrada = \"USUARIO123\"\n",
    "usuario = input(\"Ingrese su nombre de usuario: \").strip()\n",
    "contrasena = input(\"Ingrese su contraseña: \").strip()\n",
    "descuento_membresia = 0\n",
    "if usuario == usuario_registrado and contrasena == contrasena_registrada:\n",
    "    print(\"¡Membresía verificada! Se aplicará un descuento adicional del 5%.\")\n",
    "    descuento_membresia = 5\n",
    "else:\n",
    "    print(\"Usuario o contraseña incorrectos. No se aplicará el descuento de membresía.\")\n",
    "num_articulos = int(input(\"¿Cuántos artículos desea comprar?: \"))\n",
    "total_final = 0\n",
    "for i in range(num_articulos):\n",
    "    print(f\"\\nArtículo {i + 1}\")\n",
    "    precio_original = float(input(\"Ingrese el precio original del artículo: \"))\n",
    "    descuento_total = descuento_membresia\n",
    "    descuento_aplicado = (descuento_total / 100) * precio_original\n",
    "    precio_final = precio_original - descuento_aplicado\n",
    "    print(f\"Se ha aplicado un descuento del {descuento_total}% de membresía.\")\n",
    "    print(f\"El precio final de este artículo es: {precio_final:.2f}€\")\n",
    "    total_final += precio_final\n",
    "print(f\"\\nEl monto total final de la compra es: {total_final:.2f}€\")"
   ]
  },
  {
   "cell_type": "markdown",
   "metadata": {},
   "source": [
    "Crea un nuevo programa que ofrezca un descuento del 10% adicional si el usuario compra más de 5 artículos del mismo tipo. Debes verificar la cantidad de productos comprados y aplicar el descuento adicional si corresponde.\n"
   ]
  },
  {
   "cell_type": "code",
   "execution_count": null,
   "metadata": {},
   "outputs": [],
   "source": [
    "total_final = 0\n",
    "num_tipos_articulos = int(input(\"¿Cuántos tipos de artículos diferentes desea comprar?: \"))\n",
    "for i in range(num_tipos_articulos):\n",
    "    print(f\"\\nTipo de artículo {i + 1}\")\n",
    "    nombre_articulo = input(\"Ingrese el nombre del artículo: \").strip()\n",
    "    precio_unitario = float(input(f\"Ingrese el precio unitario del artículo '{nombre_articulo}': \"))\n",
    "    cantidad = int(input(f\"Ingrese la cantidad de artículos '{nombre_articulo}' que va a comprar: \"))\n",
    "    precio_total_articulos = precio_unitario * cantidad\n",
    "    descuento_adicional = 0\n",
    "    if cantidad > 5:\n",
    "        descuento_adicional = 10\n",
    "        print(f\"Se ha aplicado un descuento adicional del 10% por comprar más de 5 '{nombre_articulo}'.\")\n",
    "    descuento_aplicado = (descuento_adicional / 100) * precio_total_articulos\n",
    "    precio_final = precio_total_articulos - descuento_aplicado\n",
    "    print(f\"El precio final de los {cantidad} artículos '{nombre_articulo}' es: {precio_final:.2f}€\")\n",
    "    total_final += precio_final\n",
    "print(f\"\\nEl monto total final de la compra es: {total_final:.2f}€\")"
   ]
  },
  {
   "cell_type": "markdown",
   "metadata": {},
   "source": [
    "Crea un nuevo programa que ofrezca descuentos progresivos en función del volumen de compra. Aplica un descuento del 5% para compras entre 100€ y 200€, un descuento del 10% para compras entre 200€ y 500€ y un descuento del 15% para compras superiores a 500€."
   ]
  },
  {
   "cell_type": "code",
   "execution_count": null,
   "metadata": {},
   "outputs": [],
   "source": [
    "total_compra = 0\n",
    "num_articulos = int(input(\"¿Cuántos artículos desea comprar?: \"))\n",
    "for i in range(num_articulos):\n",
    "    print(f\"\\nArtículo {i + 1}\")\n",
    "    precio = float(input(\"Ingrese el precio del artículo: \"))\n",
    "    total_compra += precio\n",
    "print(f\"\\nTotal de la compra antes de descuentos: {total_compra:.2f}€\")\n",
    "descuento = 0\n",
    "if 100 <= total_compra < 200:\n",
    "    descuento = 5\n",
    "elif 200 <= total_compra <= 500:\n",
    "    descuento = 10\n",
    "elif total_compra > 500:\n",
    "    descuento = 15\n",
    "descuento_aplicado = (descuento / 100) * total_compra\n",
    "precio_final = total_compra - descuento_aplicado\n",
    "if descuento > 0:\n",
    "    print(f\"Se ha aplicado un {descuento}% de descuento.\")\n",
    "else:\n",
    "    print(\"No se ha aplicado ningún descuento, ya que la compra es menor a 100€.\")\n",
    "print(f\"Total final después de descuentos: {precio_final:.2f}€\")"
   ]
  },
  {
   "cell_type": "markdown",
   "metadata": {},
   "source": [
    "Crea un nuevo programa  que ofrezca un descuento adicional del 3% si el usuario paga con tarjeta de crédito o débito. Solicita al usuario que ingrese el método de pago y el descuento original, por último aplica el descuento si corresponde."
   ]
  },
  {
   "cell_type": "code",
   "execution_count": null,
   "metadata": {},
   "outputs": [],
   "source": [
    "total_compra = float(input(\"Ingrese el total de la compra antes de descuentos: \"))\n",
    "descuento_original = float(input(\"Ingrese el porcentaje de descuento original (si no hay, ingrese 0): \"))\n",
    "descuento_aplicado = (descuento_original / 100) * total_compra\n",
    "total_con_descuento = total_compra - descuento_aplicado\n",
    "print(\"\\nMétodos de pago disponibles:\")\n",
    "print(\"1. Tarjeta de crédito\")\n",
    "print(\"2. Tarjeta de débito\")\n",
    "print(\"3. Efectivo\")\n",
    "metodo_pago = input(\"Ingrese el número del método de pago que va a utilizar: \")\n",
    "descuento_tarjeta = 0\n",
    "if metodo_pago == '1' or metodo_pago == '2':\n",
    "    descuento_tarjeta = 3\n",
    "    print(\"Se aplicará un descuento adicional del 3% por pagar con tarjeta.\")\n",
    "else:\n",
    "    print(\"No se aplicará el descuento adicional por pagar con tarjeta.\")\n",
    "descuento_adicional = (descuento_tarjeta / 100) * total_con_descuento\n",
    "total_final = total_con_descuento - descuento_adicional\n",
    "print(f\"\\nTotal de la compra antes de descuentos: {total_compra:.2f}€\")\n",
    "print(f\"Descuento original aplicado: {descuento_aplicado:.2f}€\")\n",
    "print(f\"Total después del descuento original: {total_con_descuento:.2f}€\")\n",
    "print(f\"Descuento adicional por pagar con tarjeta: {descuento_adicional:.2f}€\")\n",
    "print(f\"Total final después de todos los descuentos: {total_final:.2f}€\")"
   ]
  }
 ],
 "metadata": {
  "kernelspec": {
   "display_name": "hackio",
   "language": "python",
   "name": "python3"
  },
  "language_info": {
   "codemirror_mode": {
    "name": "ipython",
    "version": 3
   },
   "file_extension": ".py",
   "mimetype": "text/x-python",
   "name": "python",
   "nbconvert_exporter": "python",
   "pygments_lexer": "ipython3",
   "version": "3.1.-1"
  }
 },
 "nbformat": 4,
 "nbformat_minor": 2
}
